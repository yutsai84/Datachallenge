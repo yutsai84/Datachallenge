{
 "cells": [
  {
   "cell_type": "markdown",
   "metadata": {},
   "source": [
    "Currently, a grocery company manually groups the items into a few categories based on experience. \n",
    "However, armed with the purchase history from users, they can cluster items based on user co-purchase history, meaing creating clusters of products that have the highest probability of being bought together. \n",
    "\n",
    "The goal of this is to replace the manual creation of categories with a ML cluster algorithm. Each item will be in just one cluster.\n",
    "\n"
   ]
  },
  {
   "cell_type": "code",
   "execution_count": 1,
   "metadata": {
    "collapsed": false
   },
   "outputs": [
    {
     "ename": "RuntimeError",
     "evalue": "module compiled against API version 0xb but this version of numpy is 0xa",
     "output_type": "error",
     "traceback": [
      "\u001b[0;31m---------------------------------------------------------------------------\u001b[0m",
      "\u001b[0;31mRuntimeError\u001b[0m                              Traceback (most recent call last)",
      "\u001b[0;31mRuntimeError\u001b[0m: module compiled against API version 0xb but this version of numpy is 0xa"
     ]
    },
    {
     "ename": "RuntimeError",
     "evalue": "module compiled against API version 0xb but this version of numpy is 0xa",
     "output_type": "error",
     "traceback": [
      "\u001b[0;31m---------------------------------------------------------------------------\u001b[0m",
      "\u001b[0;31mRuntimeError\u001b[0m                              Traceback (most recent call last)",
      "\u001b[0;31mRuntimeError\u001b[0m: module compiled against API version 0xb but this version of numpy is 0xa"
     ]
    },
    {
     "ename": "RuntimeError",
     "evalue": "module compiled against API version 0xb but this version of numpy is 0xa",
     "output_type": "error",
     "traceback": [
      "\u001b[0;31m---------------------------------------------------------------------------\u001b[0m",
      "\u001b[0;31mRuntimeError\u001b[0m                              Traceback (most recent call last)",
      "\u001b[0;31mRuntimeError\u001b[0m: module compiled against API version 0xb but this version of numpy is 0xa"
     ]
    },
    {
     "ename": "RuntimeError",
     "evalue": "module compiled against API version 0xb but this version of numpy is 0xa",
     "output_type": "error",
     "traceback": [
      "\u001b[0;31m---------------------------------------------------------------------------\u001b[0m",
      "\u001b[0;31mRuntimeError\u001b[0m                              Traceback (most recent call last)",
      "\u001b[0;31mRuntimeError\u001b[0m: module compiled against API version 0xb but this version of numpy is 0xa"
     ]
    },
    {
     "ename": "RuntimeError",
     "evalue": "module compiled against API version 0xb but this version of numpy is 0xa",
     "output_type": "error",
     "traceback": [
      "\u001b[0;31m---------------------------------------------------------------------------\u001b[0m",
      "\u001b[0;31mRuntimeError\u001b[0m                              Traceback (most recent call last)",
      "\u001b[0;31mRuntimeError\u001b[0m: module compiled against API version 0xb but this version of numpy is 0xa"
     ]
    }
   ],
   "source": [
    "import re\n",
    "from collections import Counter\n",
    "import itertools\n",
    "\n",
    "import numpy as np\n",
    "import pandas as pd\n",
    "\n",
    "from sklearn.preprocessing import normalize\n",
    "from sklearn.decomposition import PCA\n",
    "from sklearn.cluster import KMeans\n",
    "from sklearn.metrics import silhouette_score\n",
    "\n",
    "import matplotlib.pyplot as plt\n",
    "plt.style.use('ggplot')\n",
    "%matplotlib inline\n",
    "\n"
   ]
  },
  {
   "cell_type": "code",
   "execution_count": 2,
   "metadata": {
    "collapsed": false
   },
   "outputs": [
    {
     "data": {
      "text/html": [
       "<div>\n",
       "<style>\n",
       "    .dataframe thead tr:only-child th {\n",
       "        text-align: right;\n",
       "    }\n",
       "\n",
       "    .dataframe thead th {\n",
       "        text-align: left;\n",
       "    }\n",
       "\n",
       "    .dataframe tbody tr th {\n",
       "        vertical-align: top;\n",
       "    }\n",
       "</style>\n",
       "<table border=\"1\" class=\"dataframe\">\n",
       "  <thead>\n",
       "    <tr style=\"text-align: right;\">\n",
       "      <th></th>\n",
       "      <th>Item_name</th>\n",
       "    </tr>\n",
       "    <tr>\n",
       "      <th>Item_id</th>\n",
       "      <th></th>\n",
       "    </tr>\n",
       "  </thead>\n",
       "  <tbody>\n",
       "    <tr>\n",
       "      <th>1</th>\n",
       "      <td>sugar</td>\n",
       "    </tr>\n",
       "    <tr>\n",
       "      <th>2</th>\n",
       "      <td>lettuce</td>\n",
       "    </tr>\n",
       "    <tr>\n",
       "      <th>3</th>\n",
       "      <td>pet items</td>\n",
       "    </tr>\n",
       "    <tr>\n",
       "      <th>4</th>\n",
       "      <td>baby items</td>\n",
       "    </tr>\n",
       "    <tr>\n",
       "      <th>5</th>\n",
       "      <td>waffles</td>\n",
       "    </tr>\n",
       "  </tbody>\n",
       "</table>\n",
       "</div>"
      ],
      "text/plain": [
       "          Item_name\n",
       "Item_id            \n",
       "1             sugar\n",
       "2           lettuce\n",
       "3         pet items\n",
       "4        baby items\n",
       "5           waffles"
      ]
     },
     "execution_count": 2,
     "metadata": {},
     "output_type": "execute_result"
    }
   ],
   "source": [
    "items = pd.read_csv(\"item_to_id.csv\", index_col='Item_id')\n",
    "items.sort_index(inplace=True)\n",
    "items.head()"
   ]
  },
  {
   "cell_type": "code",
   "execution_count": 3,
   "metadata": {
    "collapsed": false
   },
   "outputs": [
    {
     "data": {
      "text/html": [
       "<div>\n",
       "<style>\n",
       "    .dataframe thead tr:only-child th {\n",
       "        text-align: right;\n",
       "    }\n",
       "\n",
       "    .dataframe thead th {\n",
       "        text-align: left;\n",
       "    }\n",
       "\n",
       "    .dataframe tbody tr th {\n",
       "        vertical-align: top;\n",
       "    }\n",
       "</style>\n",
       "<table border=\"1\" class=\"dataframe\">\n",
       "  <thead>\n",
       "    <tr style=\"text-align: right;\">\n",
       "      <th></th>\n",
       "      <th>user_id</th>\n",
       "      <th>id</th>\n",
       "    </tr>\n",
       "  </thead>\n",
       "  <tbody>\n",
       "    <tr>\n",
       "      <th>0</th>\n",
       "      <td>222087</td>\n",
       "      <td>27,26</td>\n",
       "    </tr>\n",
       "    <tr>\n",
       "      <th>1</th>\n",
       "      <td>1343649</td>\n",
       "      <td>6,47,17</td>\n",
       "    </tr>\n",
       "    <tr>\n",
       "      <th>2</th>\n",
       "      <td>404134</td>\n",
       "      <td>18,12,23,22,27,43,38,20,35,1</td>\n",
       "    </tr>\n",
       "    <tr>\n",
       "      <th>3</th>\n",
       "      <td>1110200</td>\n",
       "      <td>9,23,2,20,26,47,37</td>\n",
       "    </tr>\n",
       "    <tr>\n",
       "      <th>4</th>\n",
       "      <td>224107</td>\n",
       "      <td>31,18,5,13,1,21,48,16,26,2,44,32,20,37,42,35,4...</td>\n",
       "    </tr>\n",
       "  </tbody>\n",
       "</table>\n",
       "</div>"
      ],
      "text/plain": [
       "   user_id                                                 id\n",
       "0   222087                                              27,26\n",
       "1  1343649                                            6,47,17\n",
       "2   404134                       18,12,23,22,27,43,38,20,35,1\n",
       "3  1110200                                 9,23,2,20,26,47,37\n",
       "4   224107  31,18,5,13,1,21,48,16,26,2,44,32,20,37,42,35,4..."
      ]
     },
     "execution_count": 3,
     "metadata": {},
     "output_type": "execute_result"
    }
   ],
   "source": [
    "purchase_history = pd.read_csv(\"purchase_history.csv\")\n",
    "purchase_history.head()"
   ]
  },
  {
   "cell_type": "code",
   "execution_count": 4,
   "metadata": {
    "collapsed": true
   },
   "outputs": [],
   "source": [
    "def item_counts_by_user(same_user_df):\n",
    "    # 'sum' here is adding two lists into one big list\n",
    "    all_item_ids = same_user_df['id'].str.split(',').sum()\n",
    "    # transform from string to int, make it easier to be sorted later\n",
    "    return pd.Series(Counter(int(id) for id in all_item_ids))\n"
   ]
  },
  {
   "cell_type": "code",
   "execution_count": 5,
   "metadata": {
    "collapsed": true
   },
   "outputs": [],
   "source": [
    "user_item_counts = purchase_history.groupby(\"user_id\").apply(item_counts_by_user).unstack(fill_value=0)"
   ]
  },
  {
   "cell_type": "markdown",
   "metadata": {},
   "source": [
    "### Clustering based on item - item similarity"
   ]
  },
  {
   "cell_type": "code",
   "execution_count": 6,
   "metadata": {
    "collapsed": false
   },
   "outputs": [
    {
     "name": "stderr",
     "output_type": "stream",
     "text": [
      "/home/amywu/anaconda3/lib/python2.7/site-packages/sklearn/utils/validation.py:429: DataConversionWarning: Data with input dtype int64 was converted to float64 by the normalize function.\n",
      "  warnings.warn(msg, _DataConversionWarning)\n"
     ]
    }
   ],
   "source": [
    "A = normalize(user_item_counts.values, axis=0)\n",
    "item_item_similarity = A.T.dot(A)\n",
    "item_item_similarity = pd.DataFrame(item_item_similarity,\n",
    "                                    index=user_item_counts.columns,\n",
    "                                    columns=user_item_counts.columns)"
   ]
  },
  {
   "cell_type": "code",
   "execution_count": 7,
   "metadata": {
    "collapsed": false
   },
   "outputs": [
    {
     "data": {
      "text/html": [
       "<div>\n",
       "<style>\n",
       "    .dataframe thead tr:only-child th {\n",
       "        text-align: right;\n",
       "    }\n",
       "\n",
       "    .dataframe thead th {\n",
       "        text-align: left;\n",
       "    }\n",
       "\n",
       "    .dataframe tbody tr th {\n",
       "        vertical-align: top;\n",
       "    }\n",
       "</style>\n",
       "<table border=\"1\" class=\"dataframe\">\n",
       "  <thead>\n",
       "    <tr style=\"text-align: right;\">\n",
       "      <th></th>\n",
       "      <th>1</th>\n",
       "      <th>2</th>\n",
       "      <th>3</th>\n",
       "      <th>4</th>\n",
       "      <th>5</th>\n",
       "      <th>6</th>\n",
       "      <th>7</th>\n",
       "      <th>8</th>\n",
       "      <th>9</th>\n",
       "      <th>10</th>\n",
       "      <th>...</th>\n",
       "      <th>39</th>\n",
       "      <th>40</th>\n",
       "      <th>41</th>\n",
       "      <th>42</th>\n",
       "      <th>43</th>\n",
       "      <th>44</th>\n",
       "      <th>45</th>\n",
       "      <th>46</th>\n",
       "      <th>47</th>\n",
       "      <th>48</th>\n",
       "    </tr>\n",
       "  </thead>\n",
       "  <tbody>\n",
       "    <tr>\n",
       "      <th>1</th>\n",
       "      <td>1.000000</td>\n",
       "      <td>0.506895</td>\n",
       "      <td>0.420145</td>\n",
       "      <td>0.296986</td>\n",
       "      <td>0.271132</td>\n",
       "      <td>0.388250</td>\n",
       "      <td>0.271743</td>\n",
       "      <td>0.335303</td>\n",
       "      <td>0.403690</td>\n",
       "      <td>0.390641</td>\n",
       "      <td>...</td>\n",
       "      <td>0.388034</td>\n",
       "      <td>0.390286</td>\n",
       "      <td>0.358599</td>\n",
       "      <td>0.393056</td>\n",
       "      <td>0.395696</td>\n",
       "      <td>0.396766</td>\n",
       "      <td>0.390253</td>\n",
       "      <td>0.394998</td>\n",
       "      <td>0.392164</td>\n",
       "      <td>0.328221</td>\n",
       "    </tr>\n",
       "    <tr>\n",
       "      <th>2</th>\n",
       "      <td>0.506895</td>\n",
       "      <td>1.000000</td>\n",
       "      <td>0.466874</td>\n",
       "      <td>0.322744</td>\n",
       "      <td>0.285125</td>\n",
       "      <td>0.468199</td>\n",
       "      <td>0.312200</td>\n",
       "      <td>0.390521</td>\n",
       "      <td>0.464872</td>\n",
       "      <td>0.527894</td>\n",
       "      <td>...</td>\n",
       "      <td>0.462968</td>\n",
       "      <td>0.462548</td>\n",
       "      <td>0.409401</td>\n",
       "      <td>0.529100</td>\n",
       "      <td>0.464579</td>\n",
       "      <td>0.527325</td>\n",
       "      <td>0.521058</td>\n",
       "      <td>0.462407</td>\n",
       "      <td>0.460257</td>\n",
       "      <td>0.380077</td>\n",
       "    </tr>\n",
       "    <tr>\n",
       "      <th>3</th>\n",
       "      <td>0.420145</td>\n",
       "      <td>0.466874</td>\n",
       "      <td>1.000000</td>\n",
       "      <td>0.277325</td>\n",
       "      <td>0.224537</td>\n",
       "      <td>0.358326</td>\n",
       "      <td>0.238133</td>\n",
       "      <td>0.301868</td>\n",
       "      <td>0.362091</td>\n",
       "      <td>0.352597</td>\n",
       "      <td>...</td>\n",
       "      <td>0.351093</td>\n",
       "      <td>0.368199</td>\n",
       "      <td>0.309078</td>\n",
       "      <td>0.357794</td>\n",
       "      <td>0.351209</td>\n",
       "      <td>0.362522</td>\n",
       "      <td>0.361922</td>\n",
       "      <td>0.354933</td>\n",
       "      <td>0.351832</td>\n",
       "      <td>0.297972</td>\n",
       "    </tr>\n",
       "    <tr>\n",
       "      <th>4</th>\n",
       "      <td>0.296986</td>\n",
       "      <td>0.322744</td>\n",
       "      <td>0.277325</td>\n",
       "      <td>1.000000</td>\n",
       "      <td>0.162860</td>\n",
       "      <td>0.247414</td>\n",
       "      <td>0.166012</td>\n",
       "      <td>0.216166</td>\n",
       "      <td>0.252662</td>\n",
       "      <td>0.258313</td>\n",
       "      <td>...</td>\n",
       "      <td>0.245623</td>\n",
       "      <td>0.261272</td>\n",
       "      <td>0.210767</td>\n",
       "      <td>0.244946</td>\n",
       "      <td>0.253282</td>\n",
       "      <td>0.253119</td>\n",
       "      <td>0.250190</td>\n",
       "      <td>0.253835</td>\n",
       "      <td>0.260541</td>\n",
       "      <td>0.218717</td>\n",
       "    </tr>\n",
       "    <tr>\n",
       "      <th>5</th>\n",
       "      <td>0.271132</td>\n",
       "      <td>0.285125</td>\n",
       "      <td>0.224537</td>\n",
       "      <td>0.162860</td>\n",
       "      <td>1.000000</td>\n",
       "      <td>0.233618</td>\n",
       "      <td>0.164699</td>\n",
       "      <td>0.203245</td>\n",
       "      <td>0.239445</td>\n",
       "      <td>0.234254</td>\n",
       "      <td>...</td>\n",
       "      <td>0.235543</td>\n",
       "      <td>0.238557</td>\n",
       "      <td>0.211006</td>\n",
       "      <td>0.238466</td>\n",
       "      <td>0.235064</td>\n",
       "      <td>0.241835</td>\n",
       "      <td>0.238087</td>\n",
       "      <td>0.238247</td>\n",
       "      <td>0.232387</td>\n",
       "      <td>0.188269</td>\n",
       "    </tr>\n",
       "  </tbody>\n",
       "</table>\n",
       "<p>5 rows × 48 columns</p>\n",
       "</div>"
      ],
      "text/plain": [
       "         1         2         3         4         5         6         7   \\\n",
       "1  1.000000  0.506895  0.420145  0.296986  0.271132  0.388250  0.271743   \n",
       "2  0.506895  1.000000  0.466874  0.322744  0.285125  0.468199  0.312200   \n",
       "3  0.420145  0.466874  1.000000  0.277325  0.224537  0.358326  0.238133   \n",
       "4  0.296986  0.322744  0.277325  1.000000  0.162860  0.247414  0.166012   \n",
       "5  0.271132  0.285125  0.224537  0.162860  1.000000  0.233618  0.164699   \n",
       "\n",
       "         8         9         10    ...           39        40        41  \\\n",
       "1  0.335303  0.403690  0.390641    ...     0.388034  0.390286  0.358599   \n",
       "2  0.390521  0.464872  0.527894    ...     0.462968  0.462548  0.409401   \n",
       "3  0.301868  0.362091  0.352597    ...     0.351093  0.368199  0.309078   \n",
       "4  0.216166  0.252662  0.258313    ...     0.245623  0.261272  0.210767   \n",
       "5  0.203245  0.239445  0.234254    ...     0.235543  0.238557  0.211006   \n",
       "\n",
       "         42        43        44        45        46        47        48  \n",
       "1  0.393056  0.395696  0.396766  0.390253  0.394998  0.392164  0.328221  \n",
       "2  0.529100  0.464579  0.527325  0.521058  0.462407  0.460257  0.380077  \n",
       "3  0.357794  0.351209  0.362522  0.361922  0.354933  0.351832  0.297972  \n",
       "4  0.244946  0.253282  0.253119  0.250190  0.253835  0.260541  0.218717  \n",
       "5  0.238466  0.235064  0.241835  0.238087  0.238247  0.232387  0.188269  \n",
       "\n",
       "[5 rows x 48 columns]"
      ]
     },
     "execution_count": 7,
     "metadata": {},
     "output_type": "execute_result"
    }
   ],
   "source": [
    "item_item_similarity.head() # get a feeling about the data"
   ]
  },
  {
   "cell_type": "code",
   "execution_count": 8,
   "metadata": {
    "collapsed": true
   },
   "outputs": [],
   "source": [
    "pca = PCA()\n",
    "# rotate by PCA, making it easier to be visualized later\n",
    "items_rotated = pca.fit_transform(item_item_similarity)\n",
    "items_rotated = pd.DataFrame(items_rotated,\n",
    "                             index = user_item_counts.columns,\n",
    "                             columns = [\"pc{}\".format(index+1) for index in xrange(items.shape[0])])\n"
   ]
  },
  {
   "cell_type": "code",
   "execution_count": 9,
   "metadata": {
    "collapsed": true
   },
   "outputs": [],
   "source": [
    "def show_clusters(items_rotated,labels):\n",
    "    \"\"\"\n",
    "    plot and print clustering result\n",
    "    \"\"\"\n",
    "    fig = plt.figure(figsize=(15, 15))\n",
    "    colors =  itertools.cycle ([\"b\",\"g\",\"r\",\"c\",\"m\",\"y\",\"k\"])\n",
    "\n",
    "    grps = items_rotated.groupby(labels)\n",
    "    for label,grp in grps:\n",
    "        plt.scatter(grp.pc1,grp.pc2,c=next(colors),label = label)\n",
    "\n",
    "        print \"*********** Label [{}] ***********\".format(label)\n",
    "        names = items.loc[ grp.index,\"Item_name\"]\n",
    "        for index, name in enumerate(names):\n",
    "            print \"\\t<{}> {}\".format(index+1,name)\n",
    "\n",
    "    # annotate\n",
    "    for itemid in items_rotated.index:\n",
    "        x = items_rotated.loc[itemid, \"pc1\"]\n",
    "        y = items_rotated.loc[itemid, \"pc2\"]\n",
    "        name = items.loc[itemid, \"Item_name\"]\n",
    "        name = re.sub('\\W', ' ', name)\n",
    "        plt.text(x,y,name)\n",
    "\n",
    "    # plt.legend(loc=\"best\")"
   ]
  },
  {
   "cell_type": "code",
   "execution_count": 10,
   "metadata": {
    "collapsed": true
   },
   "outputs": [],
   "source": [
    "def cluster(n_clusters,n_components=48):\n",
    "    \"\"\"\n",
    "    n_components=K, means use first K principle components in the clustering\n",
    "    n_clusters: the number of clusters we want to cluster\n",
    "    \"\"\"\n",
    "    print \"first {} PC explain {:.1f}% variances\".format(n_components,\n",
    "                                                         100 * sum(pca.explained_variance_ratio_[:n_components]))\n",
    "\n",
    "    kmeans = KMeans(n_clusters = n_clusters)\n",
    "    kmeans.fit(items_rotated.values[:, :n_components])\n",
    "\n",
    "    # display results\n",
    "    show_clusters(items_rotated, kmeans.labels_)"
   ]
  },
  {
   "cell_type": "code",
   "execution_count": 11,
   "metadata": {
    "collapsed": true
   },
   "outputs": [],
   "source": [
    "# choose best K (i.e., number of clusters)\n",
    "inertias = []\n",
    "silhouettes = []\n",
    "\n",
    "ks = range(2,30)\n",
    "for k in ks:\n",
    "    kmeans = KMeans(n_clusters=k)\n",
    "    kmeans.fit(items_rotated)\n",
    "    \n",
    "    inertias.append(kmeans.inertia_)\n",
    "    silhouettes.append(silhouette_score(items_rotated, kmeans.predict(items_rotated)))\n"
   ]
  },
  {
   "cell_type": "code",
   "execution_count": 12,
   "metadata": {
    "collapsed": false
   },
   "outputs": [
    {
     "data": {
      "text/plain": [
       "[<matplotlib.lines.Line2D at 0x7f831d71b4d0>]"
      ]
     },
     "execution_count": 12,
     "metadata": {},
     "output_type": "execute_result"
    },
    {
     "data": {
      "image/png": "[encoded data removed]",
      "text/plain": [
       "<matplotlib.figure.Figure at 0x7f82ccfb6610>"
      ]
     },
     "metadata": {},
     "output_type": "display_data"
    }
   ],
   "source": [
    "fig = plt.figure(figsize = (10,4))\n",
    "fig.add_subplot(1,2,1)\n",
    "plt.plot(ks, inertias, marker = 'x')# want to use elbow method to find best k\n",
    "\n",
    "fig.add_subplot(1,2,2)\n",
    "plt.plot(ks, silhouettes, marker = 'o')# the higher the better"
   ]
  },
  {
   "cell_type": "code",
   "execution_count": 13,
   "metadata": {
    "collapsed": false
   },
   "outputs": [
    {
     "name": "stdout",
     "output_type": "stream",
     "text": [
      "first 48 PC explain 100.0% variances\n",
      "*********** Label [0] ***********\n",
      "\t<1> lettuce\n",
      "\t<2> carrots\n",
      "\t<3> cucumbers\n",
      "\t<4> broccoli\n",
      "\t<5> cauliflower\n",
      "*********** Label [1] ***********\n",
      "\t<1> butter\n",
      "\t<2> eggs\n",
      "\t<3> milk\n",
      "\t<4> cheeses\n",
      "\t<5> yogurt\n",
      "*********** Label [2] ***********\n",
      "\t<1> cereals\n",
      "*********** Label [3] ***********\n",
      "\t<1> sandwich bags\n",
      "\t<2> aluminum foil\n",
      "\t<3> paper towels\n",
      "\t<4> toilet paper\n",
      "*********** Label [4] ***********\n",
      "\t<1> shampoo\n",
      "\t<2> shaving cream\n",
      "\t<3> hand soap\n",
      "\t<4> soap\n",
      "*********** Label [5] ***********\n",
      "\t<1> grapefruit\n",
      "\t<2> cherries\n",
      "\t<3> apples\n",
      "\t<4> berries\n",
      "\t<5> bananas\n",
      "*********** Label [6] ***********\n",
      "\t<1> spaghetti sauce\n",
      "\t<2> canned vegetables\n",
      "\t<3> ketchup\n",
      "*********** Label [7] ***********\n",
      "\t<1> sugar\n",
      "\t<2> pet items\n",
      "\t<3> poultry\n",
      "\t<4> beef\n",
      "\t<5> pork\n",
      "*********** Label [8] ***********\n",
      "\t<1> flour\n",
      "*********** Label [9] ***********\n",
      "\t<1> baby items\n",
      "*********** Label [10] ***********\n",
      "\t<1> bagels\n",
      "\t<2> tortillas\n",
      "\t<3> dinner rolls\n",
      "\t<4> sandwich loaves\n",
      "*********** Label [11] ***********\n",
      "\t<1> frozen vegetables\n",
      "\t<2> ice cream\n",
      "*********** Label [12] ***********\n",
      "\t<1> waffles\n",
      "\t<2> pasta\n",
      "*********** Label [13] ***********\n",
      "\t<1> soda\n",
      "\t<2> tea\n",
      "\t<3> juice\n",
      "\t<4> coffee\n",
      "*********** Label [14] ***********\n",
      "\t<1> laundry detergent\n",
      "\t<2> dishwashing \n"
     ]
    },
    {
     "data": {
      "image/png": "[encoded data removed]",
      "text/plain": [
       "<matplotlib.figure.Figure at 0x7f82cf3547d0>"
      ]
     },
     "metadata": {},
     "output_type": "display_data"
    }
   ],
   "source": [
    "# use all the components\n",
    "cluster(n_clusters = 15)"
   ]
  },
  {
   "cell_type": "code",
   "execution_count": null,
   "metadata": {
    "collapsed": true
   },
   "outputs": [],
   "source": []
  }
 ],
 "metadata": {
  "kernelspec": {
   "display_name": "Python [anaconda3]",
   "language": "python",
   "name": "Python [anaconda3]"
  },
  "language_info": {
   "codemirror_mode": {
    "name": "ipython",
    "version": 2
   },
   "file_extension": ".py",
   "mimetype": "text/x-python",
   "name": "python",
   "nbconvert_exporter": "python",
   "pygments_lexer": "ipython2",
   "version": "2.7.12"
  }
 },
 "nbformat": 4,
 "nbformat_minor": 2
}
